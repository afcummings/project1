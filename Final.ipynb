{
 "cells": [
  {
   "cell_type": "code",
   "execution_count": 6,
   "metadata": {},
   "outputs": [],
   "source": [
    "# Dependencies\n",
    "import pandas as pd\n",
    "import statsmodels.api as sm\n",
    "import requests\n",
    "\n",
    "\n",
    "# Downloaded Output Files (CSV)\n",
    "output_data_file = \"output_data/obese.csv\"\n",
    "output_data_file = \"output_data/alcohol.csv\"\n"
   ]
  },
  {
   "cell_type": "code",
   "execution_count": 7,
   "metadata": {
    "scrolled": true
   },
   "outputs": [
    {
     "name": "stdout",
     "output_type": "stream",
     "text": [
      "      Obesed_Adults(%)\n",
      "Year                  \n",
      "1975              11.9\n",
      "1976              12.2\n",
      "1977              12.6\n",
      "1978              13.0\n",
      "1979              13.3\n",
      "1980              13.7\n",
      "1981              14.1\n",
      "1982              14.6\n",
      "1983              15.0\n",
      "1984              15.5\n",
      "1985              16.0\n",
      "1986              16.5\n",
      "1987              17.0\n",
      "1988              17.5\n",
      "1989              18.1\n",
      "1990              18.7\n",
      "1991              19.3\n",
      "1992              19.9\n",
      "1993              20.6\n",
      "1994              21.2\n",
      "1995              21.9\n",
      "1996              22.6\n",
      "1997              23.3\n",
      "1998              24.1\n",
      "1999              24.8\n",
      "2000              25.5\n",
      "2001              26.2\n",
      "2002              26.9\n",
      "2003              27.6\n",
      "2004              28.3\n",
      "2005              29.0\n",
      "2006              29.7\n",
      "2007              30.3\n",
      "2008              31.0\n",
      "2009              31.7\n",
      "2010              32.3\n",
      "2011              33.0\n",
      "2012              33.6\n",
      "2013              34.3\n",
      "2014              34.9\n",
      "2015              35.6\n",
      "2016              36.2\n"
     ]
    }
   ],
   "source": [
    "# Percentage of world adults population who are Obese and age 18+.\n",
    "dt = pd.read_csv(\"output_data/obese.csv\")\n",
    "\n",
    "# Sort Percentage of US adults population who are Obese\n",
    "ob_US = dt.groupby(['Entity'])\n",
    "us = ob_US.get_group('United States')\n",
    "usa = us[['Year', 'Share of adults who are obese (%)']] #.sort_values()\n",
    "usa.columns = ['Year', 'Obesed_Adults(%)']\n",
    "obese = usa.set_index(['Year'])\n",
    "print(obese)"
   ]
  },
  {
   "cell_type": "code",
   "execution_count": 8,
   "metadata": {},
   "outputs": [
    {
     "name": "stdout",
     "output_type": "stream",
     "text": [
      "      Spirits  Beer\n",
      "Year               \n",
      "1850     7.12  0.53\n",
      "1860     8.18  1.02\n",
      "1870     5.79  1.67\n",
      "1880     3.86  2.12\n",
      "1890     3.60  3.41\n",
      "...       ...   ...\n",
      "2009     2.80  4.43\n",
      "2010     2.80  4.32\n",
      "2011     2.88  4.24\n",
      "2012     2.95  4.28\n",
      "2013     3.03  4.24\n",
      "\n",
      "[94 rows x 2 columns]\n"
     ]
    }
   ],
   "source": [
    "# USA alcohol Consumption (litres per person)\n",
    "al = pd.read_csv(\"output_data/alcohol.csv\")\n",
    "\n",
    "\n",
    "# Sort for alc columns of Spirit and bear (litres per person)\n",
    "dt = al[['Year', 'Spirits (litres per person)', 'Beer (litres per person)']]\n",
    "dt.columns = ['Year', 'Spirits', 'Beer']\n",
    "alc = dt.set_index(['Year'])\n",
    "print(alc)"
   ]
  },
  {
   "cell_type": "code",
   "execution_count": 16,
   "metadata": {},
   "outputs": [],
   "source": [
    "#  Read from url the population of US adults, age 18 and above\n",
    "url= 'https://datacenter.kidscount.org/rawdata.axd?ind=99&loc=1'\n",
    "sd= pd.read_excel('https://datacenter.kidscount.org/rawdata.axd?ind=99&loc=1')\n"
   ]
  },
  {
   "cell_type": "code",
   "execution_count": 17,
   "metadata": {},
   "outputs": [
    {
     "name": "stdout",
     "output_type": "stream",
     "text": [
      "       18+ Popn\n",
      "Year           \n",
      "1990  185404302\n",
      "1991  187667924\n",
      "1992  190005054\n",
      "1993  192323657\n",
      "1994  194484890\n",
      "1995  196805263\n",
      "1996  199160779\n",
      "1997  201726194\n",
      "1998  204422710\n",
      "1999  207094130\n",
      "2000  209786222\n",
      "2001  212297780\n",
      "2002  214688736\n",
      "2003  217007175\n",
      "2004  219507563\n",
      "2005  221992930\n",
      "2006  224622198\n",
      "2007  227211802\n",
      "2008  229989364\n",
      "2013  242487853\n",
      "2018  253768092\n",
      "2009  232637362\n",
      "2010  235205315\n",
      "2015  247122998\n",
      "2011  237671945\n",
      "2012  240176663\n",
      "2014  244821329\n",
      "2016  249421641\n",
      "2017  251564106\n"
     ]
    }
   ],
   "source": [
    "# Clean up population of us adults,age 18+ to extract data (popn) which we need \n",
    "ss = sd.groupby(['LocationType'])\n",
    "dh = ss.get_group('Nation')\n",
    "hj = dh.groupby(['DataFormat'])\n",
    "kl = hj.get_group('Number')\n",
    "hk = kl.groupby(['Child and Adult Populations'])\n",
    "gh = hk.get_group('Age 18 and over')\n",
    "\n",
    "data = gh[['TimeFrame', 'Data']]\n",
    "data.columns = ['Year', '18+ Popn']\n",
    "popn = data.set_index(['Year'])\n",
    "print(popn)"
   ]
  },
  {
   "cell_type": "code",
   "execution_count": 18,
   "metadata": {
    "scrolled": true
   },
   "outputs": [
    {
     "name": "stdout",
     "output_type": "stream",
     "text": [
      "      Obesed_Adults(%)   18+ Popn  Spirits  Beer       ob_popn\n",
      "Year                                                          \n",
      "1990              18.7  185404302     2.91  5.07  3.467060e+07\n",
      "1991              19.3  187667924     2.69  4.88  3.621991e+07\n",
      "1992              19.9  190005054     2.69  4.88  3.781101e+07\n",
      "1993              20.6  192323657     2.57  4.77  3.961867e+07\n",
      "1994              21.2  194484890     2.46  4.73  4.123080e+07\n",
      "1995              21.9  196805263     2.38  4.66  4.310035e+07\n",
      "1996              22.6  199160779     2.38  4.66  4.501034e+07\n",
      "1997              23.3  201726194     2.35  4.62  4.700220e+07\n",
      "1998              24.1  204422710     2.35  4.62  4.926587e+07\n",
      "1999              24.8  207094130     2.35  4.66  5.135934e+07\n",
      "2000              25.5  209786222     2.42  4.62  5.349549e+07\n",
      "2001              26.2  212297780     2.42  4.66  5.562202e+07\n",
      "2002              26.9  214688736     2.42  4.66  5.775127e+07\n",
      "2003              27.6  217007175     2.54  4.58  5.989398e+07\n",
      "2004              28.3  219507563     2.57  4.58  6.212064e+07\n",
      "2005              29.0  221992930     2.65  4.50  6.437795e+07\n",
      "2006              29.7  224622198     2.69  4.54  6.671279e+07\n",
      "2007              30.3  227211802     2.73  4.58  6.884518e+07\n",
      "2008              31.0  229989364     2.76  4.54  7.129670e+07\n",
      "2009              31.7  232637362     2.80  4.43  7.374604e+07\n",
      "2010              32.3  235205315     2.80  4.32  7.597132e+07\n",
      "2011              33.0  237671945     2.88  4.24  7.843174e+07\n",
      "2012              33.6  240176663     2.95  4.28  8.069936e+07\n",
      "2013              34.3  242487853     3.03  4.24  8.317333e+07\n"
     ]
    }
   ],
   "source": [
    "# Remove % from Obesed_Adults (%) and Establish ob_popn in the DataFrame of variables for Regression Analysis\n",
    "data = pd.concat([obese, popn, alc], axis=1).dropna()\n",
    "data[\"18+ Popn\"] = pd.to_numeric(data[\"18+ Popn\"])\n",
    "data['ob_popn'] = data['Obesed_Adults(%)'] / 100 * data['18+ Popn'] \n",
    "# Joint plot for ob_popn vs Spirit and Beer \n",
    "dgf = data[['Spirits', 'Beer', 'ob_popn']].pct_change().dropna()\n",
    "\n",
    "\n"
   ]
  },
  {
   "cell_type": "code",
   "execution_count": 22,
   "metadata": {},
   "outputs": [
    {
     "name": "stderr",
     "output_type": "stream",
     "text": [
      "C:\\Users\\abued\\Anaconda3\\lib\\site-packages\\numpy\\core\\fromnumeric.py:2389: FutureWarning: Method .ptp is deprecated and will be removed in a future version. Use numpy.ptp instead.\n",
      "  return ptp(axis=axis, out=out, **kwargs)\n"
     ]
    },
    {
     "data": {
      "text/html": [
       "<table class=\"simpletable\">\n",
       "<caption>OLS Regression Results</caption>\n",
       "<tr>\n",
       "  <th>Dep. Variable:</th>         <td>ob_popn</td>     <th>  R-squared:         </th> <td>   0.381</td>\n",
       "</tr>\n",
       "<tr>\n",
       "  <th>Model:</th>                   <td>OLS</td>       <th>  Adj. R-squared:    </th> <td>   0.319</td>\n",
       "</tr>\n",
       "<tr>\n",
       "  <th>Method:</th>             <td>Least Squares</td>  <th>  F-statistic:       </th> <td>   6.163</td>\n",
       "</tr>\n",
       "<tr>\n",
       "  <th>Date:</th>             <td>Wed, 11 Dec 2019</td> <th>  Prob (F-statistic):</th>  <td>0.00822</td>\n",
       "</tr>\n",
       "<tr>\n",
       "  <th>Time:</th>                 <td>12:17:22</td>     <th>  Log-Likelihood:    </th> <td>  91.952</td>\n",
       "</tr>\n",
       "<tr>\n",
       "  <th>No. Observations:</th>      <td>    23</td>      <th>  AIC:               </th> <td>  -177.9</td>\n",
       "</tr>\n",
       "<tr>\n",
       "  <th>Df Residuals:</th>          <td>    20</td>      <th>  BIC:               </th> <td>  -174.5</td>\n",
       "</tr>\n",
       "<tr>\n",
       "  <th>Df Model:</th>              <td>     2</td>      <th>                     </th>     <td> </td>   \n",
       "</tr>\n",
       "<tr>\n",
       "  <th>Covariance Type:</th>      <td>nonrobust</td>    <th>                     </th>     <td> </td>   \n",
       "</tr>\n",
       "</table>\n",
       "<table class=\"simpletable\">\n",
       "<tr>\n",
       "     <td></td>        <th>coef</th>     <th>std err</th>      <th>t</th>      <th>P>|t|</th>  <th>[0.025</th>    <th>0.975]</th>  \n",
       "</tr>\n",
       "<tr>\n",
       "  <th>const</th>   <td>    0.0396</td> <td>    0.001</td> <td>   33.037</td> <td> 0.000</td> <td>    0.037</td> <td>    0.042</td>\n",
       "</tr>\n",
       "<tr>\n",
       "  <th>Spirits</th> <td>   -0.1314</td> <td>    0.038</td> <td>   -3.483</td> <td> 0.002</td> <td>   -0.210</td> <td>   -0.053</td>\n",
       "</tr>\n",
       "<tr>\n",
       "  <th>Beer</th>    <td>    0.0643</td> <td>    0.083</td> <td>    0.773</td> <td> 0.449</td> <td>   -0.109</td> <td>    0.238</td>\n",
       "</tr>\n",
       "</table>\n",
       "<table class=\"simpletable\">\n",
       "<tr>\n",
       "  <th>Omnibus:</th>       <td> 0.647</td> <th>  Durbin-Watson:     </th> <td>   1.175</td>\n",
       "</tr>\n",
       "<tr>\n",
       "  <th>Prob(Omnibus):</th> <td> 0.724</td> <th>  Jarque-Bera (JB):  </th> <td>   0.644</td>\n",
       "</tr>\n",
       "<tr>\n",
       "  <th>Skew:</th>          <td>-0.042</td> <th>  Prob(JB):          </th> <td>   0.725</td>\n",
       "</tr>\n",
       "<tr>\n",
       "  <th>Kurtosis:</th>      <td> 2.184</td> <th>  Cond. No.          </th> <td>    85.0</td>\n",
       "</tr>\n",
       "</table><br/><br/>Warnings:<br/>[1] Standard Errors assume that the covariance matrix of the errors is correctly specified."
      ],
      "text/plain": [
       "<class 'statsmodels.iolib.summary.Summary'>\n",
       "\"\"\"\n",
       "                            OLS Regression Results                            \n",
       "==============================================================================\n",
       "Dep. Variable:                ob_popn   R-squared:                       0.381\n",
       "Model:                            OLS   Adj. R-squared:                  0.319\n",
       "Method:                 Least Squares   F-statistic:                     6.163\n",
       "Date:                Wed, 11 Dec 2019   Prob (F-statistic):            0.00822\n",
       "Time:                        12:17:22   Log-Likelihood:                 91.952\n",
       "No. Observations:                  23   AIC:                            -177.9\n",
       "Df Residuals:                      20   BIC:                            -174.5\n",
       "Df Model:                           2                                         \n",
       "Covariance Type:            nonrobust                                         \n",
       "==============================================================================\n",
       "                 coef    std err          t      P>|t|      [0.025      0.975]\n",
       "------------------------------------------------------------------------------\n",
       "const          0.0396      0.001     33.037      0.000       0.037       0.042\n",
       "Spirits       -0.1314      0.038     -3.483      0.002      -0.210      -0.053\n",
       "Beer           0.0643      0.083      0.773      0.449      -0.109       0.238\n",
       "==============================================================================\n",
       "Omnibus:                        0.647   Durbin-Watson:                   1.175\n",
       "Prob(Omnibus):                  0.724   Jarque-Bera (JB):                0.644\n",
       "Skew:                          -0.042   Prob(JB):                        0.725\n",
       "Kurtosis:                       2.184   Cond. No.                         85.0\n",
       "==============================================================================\n",
       "\n",
       "Warnings:\n",
       "[1] Standard Errors assume that the covariance matrix of the errors is correctly specified.\n",
       "\"\"\""
      ]
     },
     "execution_count": 22,
     "metadata": {},
     "output_type": "execute_result"
    }
   ],
   "source": [
    "# Establish the regression model: Y=f(X)\n",
    "y = dgf[\"ob_popn\"]\n",
    "X = sm.add_constant(dgf[['Spirits', 'Beer']])\n",
    "\n",
    "# Note the difference in argument order\n",
    "model = sm.OLS(y, X).fit()\n",
    "predictions = model.predict(X) # make the predictions by the model\n",
    "\n",
    "# Print out the statistics\n",
    "model.summary()\n"
   ]
  },
  {
   "cell_type": "code",
   "execution_count": 23,
   "metadata": {},
   "outputs": [
    {
     "name": "stdout",
     "output_type": "stream",
     "text": [
      "       ob_popn   lagBeer  lagSpirits\n",
      "Year                                \n",
      "1992  0.043929 -0.037475   -0.075601\n",
      "1993  0.047808  0.000000    0.000000\n",
      "1994  0.040691 -0.022541   -0.044610\n",
      "1995  0.045344 -0.008386   -0.042802\n",
      "1996  0.044315 -0.014799   -0.032520\n",
      "1997  0.044254  0.000000    0.000000\n",
      "1998  0.048161 -0.008584   -0.012605\n",
      "1999  0.042493  0.000000    0.000000\n",
      "2000  0.041592  0.008658    0.000000\n",
      "2001  0.039752 -0.008584    0.029787\n",
      "2002  0.038281  0.008658    0.000000\n",
      "2003  0.037102  0.000000    0.000000\n",
      "2004  0.037177 -0.017167    0.049587\n",
      "2005  0.036338  0.000000    0.011811\n",
      "2006  0.036268 -0.017467    0.031128\n",
      "2007  0.031964  0.008889    0.015094\n",
      "2008  0.035609  0.008811    0.014870\n",
      "2009  0.034354 -0.008734    0.010989\n",
      "2010  0.030175 -0.024229    0.014493\n",
      "2011  0.032386 -0.024831    0.000000\n",
      "2012  0.028912 -0.018519    0.028571\n",
      "2013  0.030657  0.009434    0.024306\n"
     ]
    }
   ],
   "source": [
    "# Try to solev the problem of auto-correlation with difference equation method\n",
    "\n",
    "dgf[['lagBeer', 'lagSpirits']] = dgf[['Beer', 'Spirits']].shift(1)\n",
    "reg = dgf[['lagBeer', 'lagSpirits']].dropna()\n",
    "\n",
    "reg = dgf[['ob_popn', 'lagBeer', 'lagSpirits']].dropna()\n",
    "\n",
    "dgf[['lagBeer', 'lagSpirits']] = dgf[['Beer', 'Spirits']].shift(1).dropna()\n",
    "\n",
    "reg = dgf[['ob_popn', 'lagBeer', 'lagSpirits']].dropna()\n",
    "# Regression Analysin\n",
    "y = reg[\"ob_popn\"]\n",
    "X = sm.add_constant(reg[['lagBeer', 'lagSpirits']])\n",
    "print(reg)\n"
   ]
  },
  {
   "cell_type": "code",
   "execution_count": 24,
   "metadata": {},
   "outputs": [
    {
     "data": {
      "text/html": [
       "<table class=\"simpletable\">\n",
       "<caption>OLS Regression Results</caption>\n",
       "<tr>\n",
       "  <th>Dep. Variable:</th>         <td>ob_popn</td>     <th>  R-squared:         </th> <td>   0.383</td>\n",
       "</tr>\n",
       "<tr>\n",
       "  <th>Model:</th>                   <td>OLS</td>       <th>  Adj. R-squared:    </th> <td>   0.319</td>\n",
       "</tr>\n",
       "<tr>\n",
       "  <th>Method:</th>             <td>Least Squares</td>  <th>  F-statistic:       </th> <td>   5.909</td>\n",
       "</tr>\n",
       "<tr>\n",
       "  <th>Date:</th>             <td>Wed, 11 Dec 2019</td> <th>  Prob (F-statistic):</th>  <td>0.0101</td> \n",
       "</tr>\n",
       "<tr>\n",
       "  <th>Time:</th>                 <td>12:17:42</td>     <th>  Log-Likelihood:    </th> <td>  88.063</td>\n",
       "</tr>\n",
       "<tr>\n",
       "  <th>No. Observations:</th>      <td>    22</td>      <th>  AIC:               </th> <td>  -170.1</td>\n",
       "</tr>\n",
       "<tr>\n",
       "  <th>Df Residuals:</th>          <td>    19</td>      <th>  BIC:               </th> <td>  -166.9</td>\n",
       "</tr>\n",
       "<tr>\n",
       "  <th>Df Model:</th>              <td>     2</td>      <th>                     </th>     <td> </td>   \n",
       "</tr>\n",
       "<tr>\n",
       "  <th>Covariance Type:</th>      <td>nonrobust</td>    <th>                     </th>     <td> </td>   \n",
       "</tr>\n",
       "</table>\n",
       "<table class=\"simpletable\">\n",
       "<tr>\n",
       "       <td></td>         <th>coef</th>     <th>std err</th>      <th>t</th>      <th>P>|t|</th>  <th>[0.025</th>    <th>0.975]</th>  \n",
       "</tr>\n",
       "<tr>\n",
       "  <th>const</th>      <td>    0.0394</td> <td>    0.001</td> <td>   32.782</td> <td> 0.000</td> <td>    0.037</td> <td>    0.042</td>\n",
       "</tr>\n",
       "<tr>\n",
       "  <th>lagBeer</th>    <td>    0.1040</td> <td>    0.084</td> <td>    1.245</td> <td> 0.228</td> <td>   -0.071</td> <td>    0.279</td>\n",
       "</tr>\n",
       "<tr>\n",
       "  <th>lagSpirits</th> <td>   -0.1325</td> <td>    0.039</td> <td>   -3.438</td> <td> 0.003</td> <td>   -0.213</td> <td>   -0.052</td>\n",
       "</tr>\n",
       "</table>\n",
       "<table class=\"simpletable\">\n",
       "<tr>\n",
       "  <th>Omnibus:</th>       <td> 2.091</td> <th>  Durbin-Watson:     </th> <td>   1.376</td>\n",
       "</tr>\n",
       "<tr>\n",
       "  <th>Prob(Omnibus):</th> <td> 0.351</td> <th>  Jarque-Bera (JB):  </th> <td>   1.363</td>\n",
       "</tr>\n",
       "<tr>\n",
       "  <th>Skew:</th>          <td> 0.354</td> <th>  Prob(JB):          </th> <td>   0.506</td>\n",
       "</tr>\n",
       "<tr>\n",
       "  <th>Kurtosis:</th>      <td> 2.007</td> <th>  Cond. No.          </th> <td>    83.7</td>\n",
       "</tr>\n",
       "</table><br/><br/>Warnings:<br/>[1] Standard Errors assume that the covariance matrix of the errors is correctly specified."
      ],
      "text/plain": [
       "<class 'statsmodels.iolib.summary.Summary'>\n",
       "\"\"\"\n",
       "                            OLS Regression Results                            \n",
       "==============================================================================\n",
       "Dep. Variable:                ob_popn   R-squared:                       0.383\n",
       "Model:                            OLS   Adj. R-squared:                  0.319\n",
       "Method:                 Least Squares   F-statistic:                     5.909\n",
       "Date:                Wed, 11 Dec 2019   Prob (F-statistic):             0.0101\n",
       "Time:                        12:17:42   Log-Likelihood:                 88.063\n",
       "No. Observations:                  22   AIC:                            -170.1\n",
       "Df Residuals:                      19   BIC:                            -166.9\n",
       "Df Model:                           2                                         \n",
       "Covariance Type:            nonrobust                                         \n",
       "==============================================================================\n",
       "                 coef    std err          t      P>|t|      [0.025      0.975]\n",
       "------------------------------------------------------------------------------\n",
       "const          0.0394      0.001     32.782      0.000       0.037       0.042\n",
       "lagBeer        0.1040      0.084      1.245      0.228      -0.071       0.279\n",
       "lagSpirits    -0.1325      0.039     -3.438      0.003      -0.213      -0.052\n",
       "==============================================================================\n",
       "Omnibus:                        2.091   Durbin-Watson:                   1.376\n",
       "Prob(Omnibus):                  0.351   Jarque-Bera (JB):                1.363\n",
       "Skew:                           0.354   Prob(JB):                        0.506\n",
       "Kurtosis:                       2.007   Cond. No.                         83.7\n",
       "==============================================================================\n",
       "\n",
       "Warnings:\n",
       "[1] Standard Errors assume that the covariance matrix of the errors is correctly specified.\n",
       "\"\"\""
      ]
     },
     "execution_count": 24,
     "metadata": {},
     "output_type": "execute_result"
    }
   ],
   "source": [
    "# Note the difference in argument order\n",
    "model = sm.OLS(y, X).fit()\n",
    "# make the predictions by the model\n",
    "predictions = model.predict(X) \n",
    "model.summary()"
   ]
  },
  {
   "cell_type": "code",
   "execution_count": 25,
   "metadata": {},
   "outputs": [
    {
     "data": {
      "text/plain": [
       "<matplotlib.axes._subplots.AxesSubplot at 0x20f3f06db08>"
      ]
     },
     "execution_count": 25,
     "metadata": {},
     "output_type": "execute_result"
    },
    {
     "data": {
      "image/png": "[encoded data removed]",
      "text/plain": [
       "<Figure size 432x288 with 1 Axes>"
      ]
     },
     "metadata": {
      "needs_background": "light"
     },
     "output_type": "display_data"
    }
   ],
   "source": [
    "# plot for ob_popn vs bear relationship\n",
    "dgf[['Beer', 'ob_popn']].plot()\n",
    "\n"
   ]
  },
  {
   "cell_type": "code",
   "execution_count": 26,
   "metadata": {},
   "outputs": [
    {
     "data": {
      "text/plain": [
       "<matplotlib.axes._subplots.AxesSubplot at 0x20f3f09e848>"
      ]
     },
     "execution_count": 26,
     "metadata": {},
     "output_type": "execute_result"
    },
    {
     "data": {
      "image/png": "[encoded data removed]",
      "text/plain": [
       "<Figure size 432x288 with 1 Axes>"
      ]
     },
     "metadata": {
      "needs_background": "light"
     },
     "output_type": "display_data"
    }
   ],
   "source": [
    "#plot for ob_popn vs Spirit relationship\n",
    "dgf[['Spirits', 'ob_popn']].plot()"
   ]
  },
  {
   "cell_type": "code",
   "execution_count": 27,
   "metadata": {},
   "outputs": [
    {
     "data": {
      "image/png": "[encoded data removed]",
      "text/plain": [
       "<Figure size 432x288 with 1 Axes>"
      ]
     },
     "metadata": {
      "needs_background": "light"
     },
     "output_type": "display_data"
    }
   ],
   "source": [
    "# Scatter plot for all variables\n",
    "dc = dgf.reset_index()\n",
    "ax1 = dc.plot(kind='scatter', x='Year', y='Spirits', color='r', label='Spirits')   \n",
    "ax2 = dc.plot(kind='scatter', x='Year', y='Beer', color='g', label='Beer', ax=ax1)    \n",
    "ax3 = dc.plot(kind='scatter', x='Year', y='ob_popn', color='b', label='ob_popn', ax=ax1)"
   ]
  },
  {
   "cell_type": "code",
   "execution_count": 28,
   "metadata": {},
   "outputs": [
    {
     "data": {
      "text/plain": [
       "<matplotlib.axes._subplots.AxesSubplot at 0x20f3f36c8c8>"
      ]
     },
     "execution_count": 28,
     "metadata": {},
     "output_type": "execute_result"
    },
    {
     "data": {
      "image/png": "[encoded data removed]",
      "text/plain": [
       "<Figure size 432x288 with 1 Axes>"
      ]
     },
     "metadata": {
      "needs_background": "light"
     },
     "output_type": "display_data"
    }
   ],
   "source": [
    "# Joint plot for ob_popn vs Spirit and Beer \n",
    "dgf = data[['Spirits', 'Beer', 'ob_popn']].pct_change().dropna()\n",
    "dgf.plot()"
   ]
  },
  {
   "cell_type": "code",
   "execution_count": null,
   "metadata": {},
   "outputs": [],
   "source": []
  }
 ],
 "metadata": {
  "kernelspec": {
   "display_name": "Python 3",
   "language": "python",
   "name": "python3"
  },
  "language_info": {
   "codemirror_mode": {
    "name": "ipython",
    "version": 3
   },
   "file_extension": ".py",
   "mimetype": "text/x-python",
   "name": "python",
   "nbconvert_exporter": "python",
   "pygments_lexer": "ipython3",
   "version": "3.7.4"
  }
 },
 "nbformat": 4,
 "nbformat_minor": 2
}
